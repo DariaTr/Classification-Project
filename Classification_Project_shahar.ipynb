{
 "cells": [
  {
   "cell_type": "code",
   "execution_count": 2,
   "metadata": {
    "id": "AVMLMW5xY6Ns"
   },
   "outputs": [],
   "source": [
    "import pandas as pd\n",
    "import numpy as np\n",
    "import  matplotlib.pyplot as plt\n",
    "import seaborn as sns\n",
    "import warnings\n",
    "\n",
    "from sklearn.model_selection import train_test_split, GridSearchCV, cross_val_score\n",
    "from sklearn.preprocessing import StandardScaler, OneHotEncoder, FunctionTransformer\n",
    "from sklearn.pipeline import Pipeline\n",
    "from sklearn.impute import SimpleImputer\n",
    "from sklearn.compose import ColumnTransformer\n",
    "\n",
    "from sklearn.tree import DecisionTreeClassifier\n",
    "from sklearn.ensemble import RandomForestClassifier\n",
    "from sklearn.metrics import f1_score\n",
    "from sklearn.metrics import roc_auc_score, roc_curve\n",
    "\n",
    "from sklearn.metrics import confusion_matrix, classification_report, accuracy_score\n",
    "from sklearn.linear_model import LogisticRegression\n",
    "\n",
    "import seaborn as sns\n",
    "import matplotlib.pyplot as plt"
   ]
  },
  {
   "cell_type": "code",
   "execution_count": 3,
   "metadata": {
    "id": "8RW5FJk9it4b"
   },
   "outputs": [],
   "source": [
    "X_train = pd.read_csv('X_train.csv')\n",
    "y_train = pd.read_csv('y_train.csv')\n",
    "X_test = pd.read_csv('X_test.csv')\n",
    "\n",
    "data = pd.merge(X_train, y_train, right_on='Unnamed: 0', left_on='Unnamed: 0')\n",
    "data.sort_values(by='Unnamed: 0', inplace=True)\n",
    "data.drop(columns=['Unnamed: 0'], inplace=True)\n",
    "\n",
    "X = data.drop('LeaveOrNot', axis=1)\n",
    "y = data['LeaveOrNot']\n",
    "\n",
    "X_train, X_test, y_train, y_test = train_test_split(X, y, train_size=0.8, random_state=0)"
   ]
  },
  {
   "cell_type": "markdown",
   "metadata": {
    "id": "E_30sk55smZA"
   },
   "source": [
    "## Pipline"
   ]
  },
  {
   "cell_type": "code",
   "execution_count": 4,
   "metadata": {
    "colab": {
     "base_uri": "https://localhost:8080/",
     "height": 424
    },
    "id": "J-HDyqFyx8Cr",
    "outputId": "01342f21-edf1-46d5-d457-633efd2a0222"
   },
   "outputs": [
    {
     "data": {
      "text/html": [
       "<div>\n",
       "<style scoped>\n",
       "    .dataframe tbody tr th:only-of-type {\n",
       "        vertical-align: middle;\n",
       "    }\n",
       "\n",
       "    .dataframe tbody tr th {\n",
       "        vertical-align: top;\n",
       "    }\n",
       "\n",
       "    .dataframe thead th {\n",
       "        text-align: right;\n",
       "    }\n",
       "</style>\n",
       "<table border=\"1\" class=\"dataframe\">\n",
       "  <thead>\n",
       "    <tr style=\"text-align: right;\">\n",
       "      <th></th>\n",
       "      <th>Education</th>\n",
       "      <th>JoiningYear</th>\n",
       "      <th>City</th>\n",
       "      <th>PaymentTier</th>\n",
       "      <th>Age</th>\n",
       "      <th>Gender</th>\n",
       "      <th>EverBenched</th>\n",
       "      <th>ExperienceInCurrentDomain</th>\n",
       "      <th>id</th>\n",
       "      <th>Race</th>\n",
       "      <th>LeaveOrNot</th>\n",
       "    </tr>\n",
       "  </thead>\n",
       "  <tbody>\n",
       "    <tr>\n",
       "      <th>2800</th>\n",
       "      <td>Bachelors</td>\n",
       "      <td>2017</td>\n",
       "      <td>Bangalore</td>\n",
       "      <td>3</td>\n",
       "      <td>NaN</td>\n",
       "      <td>NaN</td>\n",
       "      <td>No</td>\n",
       "      <td>0</td>\n",
       "      <td>0</td>\n",
       "      <td>white</td>\n",
       "      <td>0</td>\n",
       "    </tr>\n",
       "    <tr>\n",
       "      <th>2969</th>\n",
       "      <td>Bachelors</td>\n",
       "      <td>2013</td>\n",
       "      <td>Pune</td>\n",
       "      <td>1</td>\n",
       "      <td>NaN</td>\n",
       "      <td>NaN</td>\n",
       "      <td>No</td>\n",
       "      <td>3</td>\n",
       "      <td>1</td>\n",
       "      <td>white</td>\n",
       "      <td>1</td>\n",
       "    </tr>\n",
       "    <tr>\n",
       "      <th>61</th>\n",
       "      <td>Masters</td>\n",
       "      <td>2017</td>\n",
       "      <td>Pune</td>\n",
       "      <td>3</td>\n",
       "      <td>26.0</td>\n",
       "      <td>Male</td>\n",
       "      <td>Yes</td>\n",
       "      <td>2</td>\n",
       "      <td>4</td>\n",
       "      <td>white</td>\n",
       "      <td>1</td>\n",
       "    </tr>\n",
       "    <tr>\n",
       "      <th>4</th>\n",
       "      <td>Bachelors</td>\n",
       "      <td>2016</td>\n",
       "      <td>Bangalore</td>\n",
       "      <td>3</td>\n",
       "      <td>24.0</td>\n",
       "      <td>Male</td>\n",
       "      <td>No</td>\n",
       "      <td>0</td>\n",
       "      <td>5</td>\n",
       "      <td>white</td>\n",
       "      <td>0</td>\n",
       "    </tr>\n",
       "    <tr>\n",
       "      <th>1346</th>\n",
       "      <td>Bachelors</td>\n",
       "      <td>2015</td>\n",
       "      <td>New Delhi</td>\n",
       "      <td>3</td>\n",
       "      <td>40.0</td>\n",
       "      <td>Male</td>\n",
       "      <td>No</td>\n",
       "      <td>0</td>\n",
       "      <td>6</td>\n",
       "      <td>white</td>\n",
       "      <td>0</td>\n",
       "    </tr>\n",
       "    <tr>\n",
       "      <th>...</th>\n",
       "      <td>...</td>\n",
       "      <td>...</td>\n",
       "      <td>...</td>\n",
       "      <td>...</td>\n",
       "      <td>...</td>\n",
       "      <td>...</td>\n",
       "      <td>...</td>\n",
       "      <td>...</td>\n",
       "      <td>...</td>\n",
       "      <td>...</td>\n",
       "      <td>...</td>\n",
       "    </tr>\n",
       "    <tr>\n",
       "      <th>1271</th>\n",
       "      <td>Bachelors</td>\n",
       "      <td>2013</td>\n",
       "      <td>Bangalore</td>\n",
       "      <td>3</td>\n",
       "      <td>27.0</td>\n",
       "      <td>Female</td>\n",
       "      <td>No</td>\n",
       "      <td>3</td>\n",
       "      <td>4646</td>\n",
       "      <td>white</td>\n",
       "      <td>0</td>\n",
       "    </tr>\n",
       "    <tr>\n",
       "      <th>1535</th>\n",
       "      <td>Bachelors</td>\n",
       "      <td>2013</td>\n",
       "      <td>Bangalore</td>\n",
       "      <td>3</td>\n",
       "      <td>27.0</td>\n",
       "      <td>Female</td>\n",
       "      <td>No</td>\n",
       "      <td>4</td>\n",
       "      <td>4648</td>\n",
       "      <td>black</td>\n",
       "      <td>0</td>\n",
       "    </tr>\n",
       "    <tr>\n",
       "      <th>123</th>\n",
       "      <td>Masters</td>\n",
       "      <td>2013</td>\n",
       "      <td>Pune</td>\n",
       "      <td>2</td>\n",
       "      <td>39.0</td>\n",
       "      <td>Male</td>\n",
       "      <td>No</td>\n",
       "      <td>2</td>\n",
       "      <td>4649</td>\n",
       "      <td>black</td>\n",
       "      <td>1</td>\n",
       "    </tr>\n",
       "    <tr>\n",
       "      <th>1813</th>\n",
       "      <td>Masters</td>\n",
       "      <td>2018</td>\n",
       "      <td>New Delhi</td>\n",
       "      <td>3</td>\n",
       "      <td>28.0</td>\n",
       "      <td>Male</td>\n",
       "      <td>No</td>\n",
       "      <td>5</td>\n",
       "      <td>4650</td>\n",
       "      <td>white</td>\n",
       "      <td>1</td>\n",
       "    </tr>\n",
       "    <tr>\n",
       "      <th>2992</th>\n",
       "      <td>Bachelors</td>\n",
       "      <td>2012</td>\n",
       "      <td>Bangalore</td>\n",
       "      <td>3</td>\n",
       "      <td>32.0</td>\n",
       "      <td>Male</td>\n",
       "      <td>Yes</td>\n",
       "      <td>2</td>\n",
       "      <td>4651</td>\n",
       "      <td>white</td>\n",
       "      <td>0</td>\n",
       "    </tr>\n",
       "  </tbody>\n",
       "</table>\n",
       "<p>3722 rows × 11 columns</p>\n",
       "</div>"
      ],
      "text/plain": [
       "      Education  JoiningYear       City  PaymentTier   Age  Gender  \\\n",
       "2800  Bachelors         2017  Bangalore            3   NaN     NaN   \n",
       "2969  Bachelors         2013       Pune            1   NaN     NaN   \n",
       "61      Masters         2017       Pune            3  26.0    Male   \n",
       "4     Bachelors         2016  Bangalore            3  24.0    Male   \n",
       "1346  Bachelors         2015  New Delhi            3  40.0    Male   \n",
       "...         ...          ...        ...          ...   ...     ...   \n",
       "1271  Bachelors         2013  Bangalore            3  27.0  Female   \n",
       "1535  Bachelors         2013  Bangalore            3  27.0  Female   \n",
       "123     Masters         2013       Pune            2  39.0    Male   \n",
       "1813    Masters         2018  New Delhi            3  28.0    Male   \n",
       "2992  Bachelors         2012  Bangalore            3  32.0    Male   \n",
       "\n",
       "     EverBenched  ExperienceInCurrentDomain    id   Race  LeaveOrNot  \n",
       "2800          No                          0     0  white           0  \n",
       "2969          No                          3     1  white           1  \n",
       "61           Yes                          2     4  white           1  \n",
       "4             No                          0     5  white           0  \n",
       "1346          No                          0     6  white           0  \n",
       "...          ...                        ...   ...    ...         ...  \n",
       "1271          No                          3  4646  white           0  \n",
       "1535          No                          4  4648  black           0  \n",
       "123           No                          2  4649  black           1  \n",
       "1813          No                          5  4650  white           1  \n",
       "2992         Yes                          2  4651  white           0  \n",
       "\n",
       "[3722 rows x 11 columns]"
      ]
     },
     "execution_count": 4,
     "metadata": {},
     "output_type": "execute_result"
    }
   ],
   "source": [
    "data"
   ]
  },
  {
   "cell_type": "code",
   "execution_count": 5,
   "metadata": {
    "colab": {
     "base_uri": "https://localhost:8080/",
     "height": 225
    },
    "id": "bHeITxCzzWTM",
    "outputId": "604be559-b91b-46a0-f4b0-839f4ee22773"
   },
   "outputs": [
    {
     "data": {
      "text/html": [
       "<style>#sk-container-id-1 {color: black;}#sk-container-id-1 pre{padding: 0;}#sk-container-id-1 div.sk-toggleable {background-color: white;}#sk-container-id-1 label.sk-toggleable__label {cursor: pointer;display: block;width: 100%;margin-bottom: 0;padding: 0.3em;box-sizing: border-box;text-align: center;}#sk-container-id-1 label.sk-toggleable__label-arrow:before {content: \"▸\";float: left;margin-right: 0.25em;color: #696969;}#sk-container-id-1 label.sk-toggleable__label-arrow:hover:before {color: black;}#sk-container-id-1 div.sk-estimator:hover label.sk-toggleable__label-arrow:before {color: black;}#sk-container-id-1 div.sk-toggleable__content {max-height: 0;max-width: 0;overflow: hidden;text-align: left;background-color: #f0f8ff;}#sk-container-id-1 div.sk-toggleable__content pre {margin: 0.2em;color: black;border-radius: 0.25em;background-color: #f0f8ff;}#sk-container-id-1 input.sk-toggleable__control:checked~div.sk-toggleable__content {max-height: 200px;max-width: 100%;overflow: auto;}#sk-container-id-1 input.sk-toggleable__control:checked~label.sk-toggleable__label-arrow:before {content: \"▾\";}#sk-container-id-1 div.sk-estimator input.sk-toggleable__control:checked~label.sk-toggleable__label {background-color: #d4ebff;}#sk-container-id-1 div.sk-label input.sk-toggleable__control:checked~label.sk-toggleable__label {background-color: #d4ebff;}#sk-container-id-1 input.sk-hidden--visually {border: 0;clip: rect(1px 1px 1px 1px);clip: rect(1px, 1px, 1px, 1px);height: 1px;margin: -1px;overflow: hidden;padding: 0;position: absolute;width: 1px;}#sk-container-id-1 div.sk-estimator {font-family: monospace;background-color: #f0f8ff;border: 1px dotted black;border-radius: 0.25em;box-sizing: border-box;margin-bottom: 0.5em;}#sk-container-id-1 div.sk-estimator:hover {background-color: #d4ebff;}#sk-container-id-1 div.sk-parallel-item::after {content: \"\";width: 100%;border-bottom: 1px solid gray;flex-grow: 1;}#sk-container-id-1 div.sk-label:hover label.sk-toggleable__label {background-color: #d4ebff;}#sk-container-id-1 div.sk-serial::before {content: \"\";position: absolute;border-left: 1px solid gray;box-sizing: border-box;top: 0;bottom: 0;left: 50%;z-index: 0;}#sk-container-id-1 div.sk-serial {display: flex;flex-direction: column;align-items: center;background-color: white;padding-right: 0.2em;padding-left: 0.2em;position: relative;}#sk-container-id-1 div.sk-item {position: relative;z-index: 1;}#sk-container-id-1 div.sk-parallel {display: flex;align-items: stretch;justify-content: center;background-color: white;position: relative;}#sk-container-id-1 div.sk-item::before, #sk-container-id-1 div.sk-parallel-item::before {content: \"\";position: absolute;border-left: 1px solid gray;box-sizing: border-box;top: 0;bottom: 0;left: 50%;z-index: -1;}#sk-container-id-1 div.sk-parallel-item {display: flex;flex-direction: column;z-index: 1;position: relative;background-color: white;}#sk-container-id-1 div.sk-parallel-item:first-child::after {align-self: flex-end;width: 50%;}#sk-container-id-1 div.sk-parallel-item:last-child::after {align-self: flex-start;width: 50%;}#sk-container-id-1 div.sk-parallel-item:only-child::after {width: 0;}#sk-container-id-1 div.sk-dashed-wrapped {border: 1px dashed gray;margin: 0 0.4em 0.5em 0.4em;box-sizing: border-box;padding-bottom: 0.4em;background-color: white;}#sk-container-id-1 div.sk-label label {font-family: monospace;font-weight: bold;display: inline-block;line-height: 1.2em;}#sk-container-id-1 div.sk-label-container {text-align: center;}#sk-container-id-1 div.sk-container {/* jupyter's `normalize.less` sets `[hidden] { display: none; }` but bootstrap.min.css set `[hidden] { display: none !important; }` so we also need the `!important` here to be able to override the default hidden behavior on the sphinx rendered scikit-learn.org. See: https://github.com/scikit-learn/scikit-learn/issues/21755 */display: inline-block !important;position: relative;}#sk-container-id-1 div.sk-text-repr-fallback {display: none;}</style><div id=\"sk-container-id-1\" class=\"sk-top-container\"><div class=\"sk-text-repr-fallback\"><pre>Pipeline(steps=[(&#x27;drop_id&#x27;,\n",
       "                 FunctionTransformer(func=&lt;function drop_col at 0x000002751C89C900&gt;)),\n",
       "                (&#x27;col_transformer&#x27;,\n",
       "                 ColumnTransformer(transformers=[(&#x27;num&#x27;,\n",
       "                                                  Pipeline(steps=[(&#x27;imputer_num&#x27;,\n",
       "                                                                   SimpleImputer()),\n",
       "                                                                  (&#x27;scaler&#x27;,\n",
       "                                                                   StandardScaler())]),\n",
       "                                                  [&#x27;JoiningYear&#x27;, &#x27;Age&#x27;,\n",
       "                                                   &#x27;ExperienceInCurrentDomain&#x27;]),\n",
       "                                                 (&#x27;cat&#x27;,\n",
       "                                                  Pipeline(steps=[(&#x27;imputer_cat&#x27;,\n",
       "                                                                   SimpleImputer(strategy=&#x27;most_frequent&#x27;)),\n",
       "                                                                  (&#x27;onehot&#x27;,\n",
       "                                                                   OneHotEncoder())]),\n",
       "                                                  [&#x27;Education&#x27;, &#x27;City&#x27;,\n",
       "                                                   &#x27;PaymentTier&#x27;, &#x27;Gender&#x27;,\n",
       "                                                   &#x27;EverBenched&#x27;, &#x27;Race&#x27;])]))])</pre><b>In a Jupyter environment, please rerun this cell to show the HTML representation or trust the notebook. <br />On GitHub, the HTML representation is unable to render, please try loading this page with nbviewer.org.</b></div><div class=\"sk-container\" hidden><div class=\"sk-item sk-dashed-wrapped\"><div class=\"sk-label-container\"><div class=\"sk-label sk-toggleable\"><input class=\"sk-toggleable__control sk-hidden--visually\" id=\"sk-estimator-id-1\" type=\"checkbox\" ><label for=\"sk-estimator-id-1\" class=\"sk-toggleable__label sk-toggleable__label-arrow\">Pipeline</label><div class=\"sk-toggleable__content\"><pre>Pipeline(steps=[(&#x27;drop_id&#x27;,\n",
       "                 FunctionTransformer(func=&lt;function drop_col at 0x000002751C89C900&gt;)),\n",
       "                (&#x27;col_transformer&#x27;,\n",
       "                 ColumnTransformer(transformers=[(&#x27;num&#x27;,\n",
       "                                                  Pipeline(steps=[(&#x27;imputer_num&#x27;,\n",
       "                                                                   SimpleImputer()),\n",
       "                                                                  (&#x27;scaler&#x27;,\n",
       "                                                                   StandardScaler())]),\n",
       "                                                  [&#x27;JoiningYear&#x27;, &#x27;Age&#x27;,\n",
       "                                                   &#x27;ExperienceInCurrentDomain&#x27;]),\n",
       "                                                 (&#x27;cat&#x27;,\n",
       "                                                  Pipeline(steps=[(&#x27;imputer_cat&#x27;,\n",
       "                                                                   SimpleImputer(strategy=&#x27;most_frequent&#x27;)),\n",
       "                                                                  (&#x27;onehot&#x27;,\n",
       "                                                                   OneHotEncoder())]),\n",
       "                                                  [&#x27;Education&#x27;, &#x27;City&#x27;,\n",
       "                                                   &#x27;PaymentTier&#x27;, &#x27;Gender&#x27;,\n",
       "                                                   &#x27;EverBenched&#x27;, &#x27;Race&#x27;])]))])</pre></div></div></div><div class=\"sk-serial\"><div class=\"sk-item\"><div class=\"sk-estimator sk-toggleable\"><input class=\"sk-toggleable__control sk-hidden--visually\" id=\"sk-estimator-id-2\" type=\"checkbox\" ><label for=\"sk-estimator-id-2\" class=\"sk-toggleable__label sk-toggleable__label-arrow\">FunctionTransformer</label><div class=\"sk-toggleable__content\"><pre>FunctionTransformer(func=&lt;function drop_col at 0x000002751C89C900&gt;)</pre></div></div></div><div class=\"sk-item sk-dashed-wrapped\"><div class=\"sk-label-container\"><div class=\"sk-label sk-toggleable\"><input class=\"sk-toggleable__control sk-hidden--visually\" id=\"sk-estimator-id-3\" type=\"checkbox\" ><label for=\"sk-estimator-id-3\" class=\"sk-toggleable__label sk-toggleable__label-arrow\">col_transformer: ColumnTransformer</label><div class=\"sk-toggleable__content\"><pre>ColumnTransformer(transformers=[(&#x27;num&#x27;,\n",
       "                                 Pipeline(steps=[(&#x27;imputer_num&#x27;,\n",
       "                                                  SimpleImputer()),\n",
       "                                                 (&#x27;scaler&#x27;, StandardScaler())]),\n",
       "                                 [&#x27;JoiningYear&#x27;, &#x27;Age&#x27;,\n",
       "                                  &#x27;ExperienceInCurrentDomain&#x27;]),\n",
       "                                (&#x27;cat&#x27;,\n",
       "                                 Pipeline(steps=[(&#x27;imputer_cat&#x27;,\n",
       "                                                  SimpleImputer(strategy=&#x27;most_frequent&#x27;)),\n",
       "                                                 (&#x27;onehot&#x27;, OneHotEncoder())]),\n",
       "                                 [&#x27;Education&#x27;, &#x27;City&#x27;, &#x27;PaymentTier&#x27;, &#x27;Gender&#x27;,\n",
       "                                  &#x27;EverBenched&#x27;, &#x27;Race&#x27;])])</pre></div></div></div><div class=\"sk-parallel\"><div class=\"sk-parallel-item\"><div class=\"sk-item\"><div class=\"sk-label-container\"><div class=\"sk-label sk-toggleable\"><input class=\"sk-toggleable__control sk-hidden--visually\" id=\"sk-estimator-id-4\" type=\"checkbox\" ><label for=\"sk-estimator-id-4\" class=\"sk-toggleable__label sk-toggleable__label-arrow\">num</label><div class=\"sk-toggleable__content\"><pre>[&#x27;JoiningYear&#x27;, &#x27;Age&#x27;, &#x27;ExperienceInCurrentDomain&#x27;]</pre></div></div></div><div class=\"sk-serial\"><div class=\"sk-item\"><div class=\"sk-serial\"><div class=\"sk-item\"><div class=\"sk-estimator sk-toggleable\"><input class=\"sk-toggleable__control sk-hidden--visually\" id=\"sk-estimator-id-5\" type=\"checkbox\" ><label for=\"sk-estimator-id-5\" class=\"sk-toggleable__label sk-toggleable__label-arrow\">SimpleImputer</label><div class=\"sk-toggleable__content\"><pre>SimpleImputer()</pre></div></div></div><div class=\"sk-item\"><div class=\"sk-estimator sk-toggleable\"><input class=\"sk-toggleable__control sk-hidden--visually\" id=\"sk-estimator-id-6\" type=\"checkbox\" ><label for=\"sk-estimator-id-6\" class=\"sk-toggleable__label sk-toggleable__label-arrow\">StandardScaler</label><div class=\"sk-toggleable__content\"><pre>StandardScaler()</pre></div></div></div></div></div></div></div></div><div class=\"sk-parallel-item\"><div class=\"sk-item\"><div class=\"sk-label-container\"><div class=\"sk-label sk-toggleable\"><input class=\"sk-toggleable__control sk-hidden--visually\" id=\"sk-estimator-id-7\" type=\"checkbox\" ><label for=\"sk-estimator-id-7\" class=\"sk-toggleable__label sk-toggleable__label-arrow\">cat</label><div class=\"sk-toggleable__content\"><pre>[&#x27;Education&#x27;, &#x27;City&#x27;, &#x27;PaymentTier&#x27;, &#x27;Gender&#x27;, &#x27;EverBenched&#x27;, &#x27;Race&#x27;]</pre></div></div></div><div class=\"sk-serial\"><div class=\"sk-item\"><div class=\"sk-serial\"><div class=\"sk-item\"><div class=\"sk-estimator sk-toggleable\"><input class=\"sk-toggleable__control sk-hidden--visually\" id=\"sk-estimator-id-8\" type=\"checkbox\" ><label for=\"sk-estimator-id-8\" class=\"sk-toggleable__label sk-toggleable__label-arrow\">SimpleImputer</label><div class=\"sk-toggleable__content\"><pre>SimpleImputer(strategy=&#x27;most_frequent&#x27;)</pre></div></div></div><div class=\"sk-item\"><div class=\"sk-estimator sk-toggleable\"><input class=\"sk-toggleable__control sk-hidden--visually\" id=\"sk-estimator-id-9\" type=\"checkbox\" ><label for=\"sk-estimator-id-9\" class=\"sk-toggleable__label sk-toggleable__label-arrow\">OneHotEncoder</label><div class=\"sk-toggleable__content\"><pre>OneHotEncoder()</pre></div></div></div></div></div></div></div></div></div></div></div></div></div></div>"
      ],
      "text/plain": [
       "Pipeline(steps=[('drop_id',\n",
       "                 FunctionTransformer(func=<function drop_col at 0x000002751C89C900>)),\n",
       "                ('col_transformer',\n",
       "                 ColumnTransformer(transformers=[('num',\n",
       "                                                  Pipeline(steps=[('imputer_num',\n",
       "                                                                   SimpleImputer()),\n",
       "                                                                  ('scaler',\n",
       "                                                                   StandardScaler())]),\n",
       "                                                  ['JoiningYear', 'Age',\n",
       "                                                   'ExperienceInCurrentDomain']),\n",
       "                                                 ('cat',\n",
       "                                                  Pipeline(steps=[('imputer_cat',\n",
       "                                                                   SimpleImputer(strategy='most_frequent')),\n",
       "                                                                  ('onehot',\n",
       "                                                                   OneHotEncoder())]),\n",
       "                                                  ['Education', 'City',\n",
       "                                                   'PaymentTier', 'Gender',\n",
       "                                                   'EverBenched', 'Race'])]))])"
      ]
     },
     "execution_count": 5,
     "metadata": {},
     "output_type": "execute_result"
    }
   ],
   "source": [
    "def drop_col(df):\n",
    "  clean_df = df.drop('id', axis=1)\n",
    "  return clean_df\n",
    "\n",
    "func_transformer = FunctionTransformer(drop_col)\n",
    "\n",
    "\n",
    "numeric_transformer = Pipeline(steps=[('imputer_num', SimpleImputer(strategy=\"mean\")),\n",
    "                                      ('scaler', StandardScaler())])\n",
    "\n",
    "\n",
    "categorical_transformer = Pipeline(steps=[('imputer_cat', SimpleImputer(strategy=\"most_frequent\")),\n",
    "                                          ('onehot', OneHotEncoder())])\n",
    "\n",
    "NUM_COLS = ['JoiningYear', 'Age', 'ExperienceInCurrentDomain']\n",
    "CAT_COLS = ['Education', 'City', 'PaymentTier', 'Gender', 'EverBenched', 'Race']\n",
    "\n",
    "# Combine transformers using ColumnTransformer\n",
    "column_transformer = ColumnTransformer(transformers=[('num', numeric_transformer, NUM_COLS),\n",
    "                                                     ('cat', categorical_transformer, CAT_COLS)])\n",
    "\n",
    "# The final pipeline\n",
    "preprocess_pipeline = Pipeline(steps=[('drop_id', func_transformer),\n",
    "                                      ('col_transformer', column_transformer)])\n",
    "\n",
    "preprocess_pipeline"
   ]
  },
  {
   "cell_type": "markdown",
   "metadata": {
    "id": "MnLPD4SBsyIx"
   },
   "source": [
    "## **Decision Tree Classifier**"
   ]
  },
  {
   "cell_type": "code",
   "execution_count": 21,
   "metadata": {
    "colab": {
     "base_uri": "https://localhost:8080/"
    },
    "id": "GSV96Dd7gnGK",
    "outputId": "e3c27986-9d35-4ca8-9a7e-5a43030f0a75"
   },
   "outputs": [
    {
     "name": "stdout",
     "output_type": "stream",
     "text": [
      "best f1 score: 0.7454935359877153\n",
      "Best Parameters: {'dt__max_depth': 10, 'dt__min_samples_leaf': 10, 'dt__min_samples_split': 15}\n"
     ]
    }
   ],
   "source": [
    "dt_clf = DecisionTreeClassifier(random_state=42)\n",
    "\n",
    "dt_pipeline = Pipeline([('trans_pipeline', preprocess_pipeline),\n",
    "                          ('dt', dt_clf)])\n",
    "\n",
    "# applying grid search\n",
    "params = {'dt__max_depth': [10,25,50,100],\n",
    "          'dt__min_samples_leaf':[5,10,20,50],\n",
    "          'dt__min_samples_split':[15,20,50,100]}\n",
    "\n",
    "gs = GridSearchCV(dt_pipeline, param_grid=params, cv=10, scoring='f1')\n",
    "\n",
    "gs.fit(X_train, y_train)\n",
    "\n",
    "best_clf = gs.best_estimator_\n",
    "best_params = gs.best_params_\n",
    "best_f1_score = gs.best_score_\n",
    "\n",
    "print(\"best f1 score:\", best_f1_score)\n",
    "print(\"Best Parameters:\", best_params)"
   ]
  },
  {
   "cell_type": "code",
   "execution_count": 7,
   "metadata": {},
   "outputs": [
    {
     "data": {
      "image/png": "[encoded data removed]",
      "text/plain": [
       "<Figure size 400x200 with 1 Axes>"
      ]
     },
     "metadata": {},
     "output_type": "display_data"
    },
    {
     "name": "stdout",
     "output_type": "stream",
     "text": [
      "Classification Report:\n",
      "               precision    recall  f1-score   support\n",
      "\n",
      "           0       0.84      0.92      0.88       493\n",
      "           1       0.81      0.66      0.73       252\n",
      "\n",
      "    accuracy                           0.83       745\n",
      "   macro avg       0.82      0.79      0.80       745\n",
      "weighted avg       0.83      0.83      0.83       745\n",
      "\n"
     ]
    }
   ],
   "source": [
    "# Make predictions using the best estimator\n",
    "y_pred = best_clf.predict(X_test)\n",
    "\n",
    "# Evaluate the model using confusion matrix\n",
    "conf_matrix = confusion_matrix(y_test, y_pred)\n",
    "plt.figure(figsize=(4, 2))\n",
    "sns.heatmap(conf_matrix, annot=True, fmt='d', cmap='Blues', cbar=False,\n",
    "            xticklabels=['Not Leave', 'Leave'], yticklabels=['Not Leave', 'Leave'])\n",
    "plt.xlabel('Predicted')\n",
    "plt.ylabel('Actual')\n",
    "plt.title('Confusion Matrix')\n",
    "plt.show()\n",
    "\n",
    "# Classification Report\n",
    "class_report = classification_report(y_test, y_pred)\n",
    "print(\"Classification Report:\\n\", class_report)"
   ]
  },
  {
   "cell_type": "code",
   "execution_count": 8,
   "metadata": {},
   "outputs": [],
   "source": [
    "###### not working - feature importance ######\n",
    "\n",
    "# Assuming 'best_clf' is the best estimator from GridSearchCV\n",
    "# best_dt_clf = best_clf.named_steps['dt']\n",
    "\n",
    "# feature_importances = pd.Series(best_dt_clf.feature_importances_, index=X.columns)\n",
    "\n",
    "# print(feature_importances)\n"
   ]
  },
  {
   "cell_type": "markdown",
   "metadata": {},
   "source": [
    "## **Random Forest**"
   ]
  },
  {
   "cell_type": "code",
   "execution_count": 22,
   "metadata": {},
   "outputs": [
    {
     "name": "stdout",
     "output_type": "stream",
     "text": [
      "best_f1_score: 0.7513698794283632\n"
     ]
    }
   ],
   "source": [
    "# Replace DecisionTreeClassifier with RandomForestClassifier\n",
    "rf_clf = RandomForestClassifier(n_estimators=100, random_state=42)\n",
    "\n",
    "# Modify the pipeline to use the RandomForestClassifier\n",
    "rf_pipeline = Pipeline([('trans_pipeline', preprocess_pipeline),\n",
    "                        ('rf', rf_clf)])\n",
    "\n",
    "# Grid search parameters for the Random Forest\n",
    "params_rf = {'rf__n_estimators': [50, 100, 200],\n",
    "             'rf__max_depth': [10,25,50],\n",
    "             'rf__min_samples_leaf':[5,10,20],\n",
    "             'rf__min_samples_split':[15,20,50]}\n",
    "\n",
    "\n",
    "\n",
    "# Grid search with the Random Forest pipeline\n",
    "gs_rf = GridSearchCV(rf_pipeline, param_grid=params_rf, cv=10, scoring='f1')\n",
    "gs_rf.fit(X_train, y_train)\n",
    "\n",
    "# Best Random Forest model\n",
    "best_rf_clf = gs_rf.best_estimator_\n",
    "best_f1_score = gs_rf.best_score_\n",
    "\n",
    "print(\"best_f1_score:\", best_f1_score)"
   ]
  },
  {
   "cell_type": "code",
   "execution_count": 13,
   "metadata": {},
   "outputs": [
    {
     "name": "stdout",
     "output_type": "stream",
     "text": [
      "AUC: 0.8654174313403522\n"
     ]
    },
    {
     "data": {
      "image/png": "[encoded data removed]",
      "text/plain": [
       "<Figure size 600x400 with 1 Axes>"
      ]
     },
     "metadata": {},
     "output_type": "display_data"
    }
   ],
   "source": [
    "# Make predictions using the best estimator\n",
    "y_pred = best_clf.predict(X_test)\n",
    "\n",
    "# Calculate predicted probabilities for the \"1\" class (leave)\n",
    "y_proba = best_clf.predict_proba(X_test)[:, 1]\n",
    "\n",
    "# AUC\n",
    "auc = roc_auc_score(y_test, y_proba)\n",
    "print(\"AUC:\", auc)\n",
    "\n",
    "# ROC Curve\n",
    "fpr, tpr, thresholds = roc_curve(y_test, y_proba)\n",
    "\n",
    "# Plot ROC Curve\n",
    "plt.figure(figsize=(6, 4))\n",
    "plt.plot(fpr, tpr, label=f'AUC = {auc:.2f}')\n",
    "plt.plot([0, 1], [0, 1], linestyle='--', color='gray', label='Random')\n",
    "plt.xlabel('False Positive Rate')\n",
    "plt.ylabel('True Positive Rate')\n",
    "plt.title('ROC Curve')\n",
    "plt.legend()\n",
    "plt.show()"
   ]
  },
  {
   "cell_type": "markdown",
   "metadata": {
    "id": "nevmaGEsysUy"
   },
   "source": [
    "## **Logistic Regression Model**"
   ]
  },
  {
   "cell_type": "code",
   "execution_count": 14,
   "metadata": {
    "id": "7KWr6EJK9qHw"
   },
   "outputs": [
    {
     "name": "stdout",
     "output_type": "stream",
     "text": [
      "best f1 score: 0.5292310483234843\n",
      "Best Parameters: {'logistic_regression__C': 10, 'logistic_regression__tol': 0.001}\n"
     ]
    }
   ],
   "source": [
    "# C= Regularization Strength. a large 'C' means you want a smoother curve that captures\n",
    "# the general trend without fitting each point precisely\n",
    "# tol= Tolerance for Stopping Criteria. A larger 'tol' means you're willing to stop\n",
    "# when you are reasonably close, even if you haven't found the absolute best solution.\n",
    "\n",
    "lr_model = LogisticRegression()\n",
    "\n",
    "lr_pipeline = Pipeline([('trans_pipeline', preprocess_pipeline),\n",
    "                          ('logistic_regression', lr_model)])\n",
    "\n",
    "\n",
    "lr_params = {'logistic_regression__C': [1, 5, 10],\n",
    "             'logistic_regression__tol': [0.001, 0.0001, 0.00001]}\n",
    "\n",
    "\n",
    "gs = GridSearchCV(lr_pipeline, param_grid=lr_params, cv=20, scoring='f1')\n",
    "\n",
    "gs.fit(X_train, y_train)\n",
    "\n",
    "# the best model\n",
    "best_clf = gs.best_estimator_\n",
    "\n",
    "f1_score = gs.best_score_\n",
    "best_params = gs.best_params_\n",
    "\n",
    "print(\"best f1 score:\", f1_score)\n",
    "print(\"Best Parameters:\", best_params)"
   ]
  },
  {
   "cell_type": "code",
   "execution_count": 15,
   "metadata": {},
   "outputs": [
    {
     "data": {
      "image/png": "[encoded data removed]",
      "text/plain": [
       "<Figure size 400x200 with 1 Axes>"
      ]
     },
     "metadata": {},
     "output_type": "display_data"
    },
    {
     "name": "stdout",
     "output_type": "stream",
     "text": [
      "Classification Report:\n",
      "               precision    recall  f1-score   support\n",
      "\n",
      "           0       0.74      0.88      0.81       493\n",
      "           1       0.64      0.40      0.49       252\n",
      "\n",
      "    accuracy                           0.72       745\n",
      "   macro avg       0.69      0.64      0.65       745\n",
      "weighted avg       0.71      0.72      0.70       745\n",
      "\n"
     ]
    }
   ],
   "source": [
    "# Evaluate the model using confusion matrix. the predictions using the best estimator\n",
    "y_pred = best_clf.predict(X_test)\n",
    "\n",
    "cm = confusion_matrix(y_test, y_pred)\n",
    "\n",
    "plt.figure(figsize=(4, 2))\n",
    "sns.heatmap(cm, annot=True, fmt='d', cmap='Blues', cbar=False,\n",
    "            xticklabels=['Not Leave', 'Leave'], yticklabels=['Not Leave', 'Leave'])\n",
    "plt.xlabel('Predicted')\n",
    "plt.ylabel('Actual')\n",
    "plt.title('Confusion Matrix')\n",
    "plt.show()\n",
    "\n",
    "# Classification Report\n",
    "class_report = classification_report(y_test, y_pred)\n",
    "print(\"Classification Report:\\n\", class_report)"
   ]
  },
  {
   "cell_type": "code",
   "execution_count": 16,
   "metadata": {},
   "outputs": [
    {
     "data": {
      "image/png": "[encoded data removed]",
      "text/plain": [
       "<Figure size 640x480 with 1 Axes>"
      ]
     },
     "metadata": {},
     "output_type": "display_data"
    }
   ],
   "source": [
    "# Illustrative of the probability to leave or not\n",
    "\n",
    "y_proba = best_clf.predict_proba(X)\n",
    "\n",
    "leave_probs = pd.DataFrame(y_proba,\n",
    "                         columns=[f'P({x})' for x in best_clf.classes_],\n",
    "                         index=data.index)\n",
    "data_joined = data.join(leave_probs)\n",
    "\n",
    "df = {\"p\":data_joined[\"P(1)\"].tolist(),\n",
    "      \"LeaveOrNot\" :data_joined['LeaveOrNot']};\n",
    "\n",
    "ax = sns.histplot(df, x=\"p\", hue=\"LeaveOrNot\",bins=100, element=\"step\")"
   ]
  },
  {
   "cell_type": "code",
   "execution_count": null,
   "metadata": {},
   "outputs": [],
   "source": []
  },
  {
   "cell_type": "code",
   "execution_count": null,
   "metadata": {},
   "outputs": [],
   "source": []
  },
  {
   "cell_type": "code",
   "execution_count": null,
   "metadata": {},
   "outputs": [],
   "source": []
  },
  {
   "cell_type": "code",
   "execution_count": null,
   "metadata": {},
   "outputs": [],
   "source": []
  },
  {
   "cell_type": "code",
   "execution_count": null,
   "metadata": {},
   "outputs": [],
   "source": []
  },
  {
   "cell_type": "code",
   "execution_count": null,
   "metadata": {},
   "outputs": [],
   "source": []
  },
  {
   "cell_type": "code",
   "execution_count": null,
   "metadata": {},
   "outputs": [],
   "source": [
    "selected_columns = ['City', 'Education', 'Race']\n",
    "\n",
    "X_selected = data[selected_columns]\n",
    "y = data['LeaveOrNot']\n",
    "                                                              \n",
    "X_train, X_test, y_train, y_test = train_test_split(X_selected, y, test_size=0.2, random_state=42)\n",
    "\n",
    "\n",
    "# Define the preprocessing steps for the selected columns\n",
    "selected_features_preprocessor = ColumnTransformer(transformers=[('selected_features', 'passthrough', selected_columns)])\n",
    "                                                                 # 'passthrough' means no transformation\n",
    "    \n",
    "# Combine the selected features preprocessing with the original preprocessing pipeline\n",
    "full_preprocess_pipeline = Pipeline([('feature_selection', selected_features_preprocessor),\n",
    "                                     ('col_transformer', column_transformer)])\n",
    "\n",
    "\n",
    "lr_model = LogisticRegression()\n",
    "\n",
    "\n",
    "# Update the logistic regression pipeline\n",
    "lr_pipeline = Pipeline([\n",
    "    ('preprocessing', full_preprocess_pipeline),\n",
    "    ('logistic_regression', lr_model)\n",
    "])\n",
    "\n",
    "\n",
    "# Define hyperparameters for grid search\n",
    "lr_params = {'logistic_regression__C': [1, 5, 10],\n",
    "              'logistic_regression__tol': [0.001, 0.0001, 0.00001]}\n",
    "\n",
    "gs = GridSearchCV(lr_pipeline, param_grid=lr_params, cv=10, scoring='f1')\n",
    "gs.fit(X_train, y_train)\n",
    "\n",
    "best_clf = gs.best_estimator_\n",
    "\n",
    "print(\"Best F1 Score:\", gs.best_score_)"
   ]
  }
 ],
 "metadata": {
  "colab": {
   "provenance": []
  },
  "kernelspec": {
   "display_name": "Python 3 (ipykernel)",
   "language": "python",
   "name": "python3"
  },
  "language_info": {
   "codemirror_mode": {
    "name": "ipython",
    "version": 3
   },
   "file_extension": ".py",
   "mimetype": "text/x-python",
   "name": "python",
   "nbconvert_exporter": "python",
   "pygments_lexer": "ipython3",
   "version": "3.11.5"
  }
 },
 "nbformat": 4,
 "nbformat_minor": 1
}
