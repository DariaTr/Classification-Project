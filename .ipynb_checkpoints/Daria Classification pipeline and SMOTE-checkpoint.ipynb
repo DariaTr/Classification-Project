{
 "cells": [
  {
   "cell_type": "markdown",
   "metadata": {},
   "source": [
    "# Classification Project "
   ]
  },
  {
   "cell_type": "markdown",
   "metadata": {},
   "source": [
    "The main goal of this project is to create a classiication model and get the highest F1.\n",
    "The F1 score is a measure of a model's accuracy that considers both precision and recall, making it a balanced metric for classification problems, especially when you have imbalanced classes."
   ]
  },
  {
   "cell_type": "markdown",
   "metadata": {},
   "source": [
    "# Step 1: Import Libraries"
   ]
  },
  {
   "cell_type": "code",
   "execution_count": 278,
   "metadata": {},
   "outputs": [],
   "source": [
    "import pandas as pd\n",
    "import numpy as np\n",
    "import matplotlib.pyplot as plt\n",
    "import seaborn as sns\n",
    "import xgboost as xgb\n",
    "from sklearn.model_selection import train_test_split as tts\n",
    "from sklearn.preprocessing import OneHotEncoder, StandardScaler\n",
    "from sklearn.ensemble import RandomForestClassifier, AdaBoostClassifier, GradientBoostingClassifier, VotingClassifier\n",
    "from sklearn.linear_model import LogisticRegression\n",
    "from sklearn.metrics import accuracy_score, f1_score,classification_report, confusion_matrix, roc_auc_score, roc_curve, auc\n",
    "from sklearn.model_selection import GridSearchCV\n",
    "import json\n",
    "\n",
    "\n",
    "from imblearn.over_sampling import SMOTE\n",
    "from collections import Counter\n",
    "\n",
    "from sklearn.pipeline import Pipeline\n",
    "from sklearn.compose import ColumnTransformer\n",
    "from sklearn.impute import SimpleImputer"
   ]
  },
  {
   "cell_type": "code",
   "execution_count": null,
   "metadata": {},
   "outputs": [],
   "source": [
    "# !pip install xgboost"
   ]
  },
  {
   "cell_type": "markdown",
   "metadata": {},
   "source": [
    "# Step 2: Load Data"
   ]
  },
  {
   "cell_type": "code",
   "execution_count": null,
   "metadata": {},
   "outputs": [],
   "source": [
    "X_train = pd.read_csv(\"X_train.csv\")\n",
    "y_train = pd.read_csv(\"y_train.csv\")\n",
    "X_test = pd.read_csv(\"X_test.csv\")  # will be used only for final submission step"
   ]
  },
  {
   "cell_type": "code",
   "execution_count": null,
   "metadata": {},
   "outputs": [],
   "source": [
    "X_train.head(2)"
   ]
  },
  {
   "cell_type": "code",
   "execution_count": null,
   "metadata": {},
   "outputs": [],
   "source": [
    "X_train.columns"
   ]
  },
  {
   "cell_type": "code",
   "execution_count": null,
   "metadata": {},
   "outputs": [],
   "source": [
    "# Drop the 'Unnamed: 0' column\n",
    "X_train.drop('Unnamed: 0', axis=1, inplace=True)\n",
    "\n",
    "# Set the 'id' column as the index of the dataframe\n",
    "X_train.set_index('id', inplace=True)\n",
    "\n",
    "# View the new data frame\n",
    "X_train.head(2)"
   ]
  },
  {
   "cell_type": "code",
   "execution_count": null,
   "metadata": {},
   "outputs": [],
   "source": [
    "X_test.head(2)"
   ]
  },
  {
   "cell_type": "code",
   "execution_count": null,
   "metadata": {},
   "outputs": [],
   "source": [
    "# Drop the 'Unnamed: 0' column\n",
    "X_test.drop('Unnamed: 0', axis=1, inplace=True)\n",
    "\n",
    "# Set the 'id' column as the index of the dataframe\n",
    "X_test.set_index('id', inplace=True)\n",
    "\n",
    "# View the new data frame\n",
    "X_test.head(2)"
   ]
  },
  {
   "cell_type": "code",
   "execution_count": null,
   "metadata": {},
   "outputs": [],
   "source": [
    "y_train.head(2)"
   ]
  },
  {
   "cell_type": "code",
   "execution_count": null,
   "metadata": {},
   "outputs": [],
   "source": [
    "# Set the 'id' column as the index of the dataframe\n",
    "y_train.set_index('Unnamed: 0', inplace=True)\n",
    "\n",
    "# View the new data frame\n",
    "y_train.head(2)"
   ]
  },
  {
   "cell_type": "code",
   "execution_count": null,
   "metadata": {},
   "outputs": [],
   "source": [
    "# y_train.info()"
   ]
  },
  {
   "cell_type": "code",
   "execution_count": null,
   "metadata": {},
   "outputs": [],
   "source": [
    "X_train.info()"
   ]
  },
  {
   "cell_type": "code",
   "execution_count": null,
   "metadata": {},
   "outputs": [],
   "source": [
    "X_train.shape"
   ]
  },
  {
   "cell_type": "code",
   "execution_count": null,
   "metadata": {},
   "outputs": [],
   "source": [
    "y_train.info()"
   ]
  },
  {
   "cell_type": "code",
   "execution_count": null,
   "metadata": {},
   "outputs": [],
   "source": [
    "y_train.shape"
   ]
  },
  {
   "cell_type": "markdown",
   "metadata": {},
   "source": [
    "Check for any missing values"
   ]
  },
  {
   "cell_type": "code",
   "execution_count": null,
   "metadata": {},
   "outputs": [],
   "source": [
    "X_train.isnull().sum()"
   ]
  },
  {
   "cell_type": "code",
   "execution_count": null,
   "metadata": {},
   "outputs": [],
   "source": [
    "y_train.isnull().sum()"
   ]
  },
  {
   "cell_type": "markdown",
   "metadata": {},
   "source": [
    "Check for imbalanced data"
   ]
  },
  {
   "cell_type": "code",
   "execution_count": null,
   "metadata": {},
   "outputs": [],
   "source": [
    "y_train['LeaveOrNot'].value_counts()"
   ]
  },
  {
   "cell_type": "code",
   "execution_count": null,
   "metadata": {},
   "outputs": [],
   "source": [
    "X_test.isnull().sum()"
   ]
  },
  {
   "cell_type": "markdown",
   "metadata": {},
   "source": [
    "Examine the rows with the missing values:"
   ]
  },
  {
   "cell_type": "code",
   "execution_count": null,
   "metadata": {},
   "outputs": [],
   "source": [
    "X_train[X_train.isna().any(axis=1)]"
   ]
  },
  {
   "cell_type": "code",
   "execution_count": null,
   "metadata": {},
   "outputs": [],
   "source": [
    "[(col, X_train[col].unique()) for col in X_train.columns]"
   ]
  },
  {
   "cell_type": "markdown",
   "metadata": {},
   "source": [
    "Age and gender statistics"
   ]
  },
  {
   "cell_type": "code",
   "execution_count": null,
   "metadata": {},
   "outputs": [],
   "source": [
    "X_train['Age'].mean()"
   ]
  },
  {
   "cell_type": "code",
   "execution_count": null,
   "metadata": {},
   "outputs": [],
   "source": [
    "# Consider imbalanced data\n",
    "X_train['Gender'].value_counts()"
   ]
  },
  {
   "cell_type": "code",
   "execution_count": null,
   "metadata": {},
   "outputs": [],
   "source": [
    "# Impute missing 'Age' values with the mean age\n",
    "# X_train['Age'].fillna(X_train['Age'].mean(), inplace=True)"
   ]
  },
  {
   "cell_type": "code",
   "execution_count": null,
   "metadata": {},
   "outputs": [],
   "source": [
    "# Impute missing 'Gender' values with the mode (most frequent category)\n",
    "# X_train['Gender'].fillna(X_train['Gender'].mode()[0], inplace=True)\n",
    "# X_train['Gender'].value_counts()"
   ]
  },
  {
   "cell_type": "code",
   "execution_count": null,
   "metadata": {},
   "outputs": [],
   "source": [
    "# [(col, X_train[col].unique()) for col in X_train.columns]"
   ]
  },
  {
   "cell_type": "code",
   "execution_count": null,
   "metadata": {},
   "outputs": [],
   "source": [
    "categorical_cols = ['Education', 'City', 'Gender', 'EverBenched', 'Race']\n",
    "\n",
    "# Set the figure size and layout for multiple pie charts\n",
    "plt.figure(figsize=(15, 10))  # Adjust the size as needed\n",
    "\n",
    "# Iterate through each categorical column\n",
    "for i, col in enumerate(categorical_cols):\n",
    "    # Count the frequency of each category in the column\n",
    "    col_count = X_train[col].value_counts()\n",
    "    \n",
    "    # Create a subplot for each pie chart\n",
    "    plt.subplot(2, 3, i+1)  # Adjust the grid dimensions as needed\n",
    "    plt.pie(col_count, labels=col_count.index, autopct='%1.1f%%', startangle=100)\n",
    "    plt.title(col)  # Title with the name of the categorical column\n",
    "\n",
    "plt.tight_layout()  # Adjust the layout"
   ]
  },
  {
   "cell_type": "code",
   "execution_count": null,
   "metadata": {},
   "outputs": [],
   "source": [
    "numerical_cols = ['JoiningYear', 'PaymentTier', 'Age', 'ExperienceInCurrentDomain']\n",
    "\n",
    "# Set the figure size for multiple plots\n",
    "plt.figure(figsize=(20, 10))\n",
    "\n",
    "# Create histograms\n",
    "for i, col in enumerate(numerical_cols):\n",
    "    plt.subplot(2, 4, i+1)\n",
    "    sns.histplot(X_train[col], kde=True)\n",
    "    plt.title(f'Histogram of {col}')\n",
    "\n",
    "# Create boxplots\n",
    "for i, col in enumerate(numerical_cols):\n",
    "    plt.subplot(2, 4, i+5)\n",
    "    sns.boxplot(x=X_train[col])\n",
    "    plt.title(f'Boxplot of {col}')\n",
    "\n",
    "plt.tight_layout()"
   ]
  },
  {
   "cell_type": "markdown",
   "metadata": {},
   "source": [
    "# Step 3: Split Data"
   ]
  },
  {
   "cell_type": "code",
   "execution_count": 284,
   "metadata": {},
   "outputs": [],
   "source": [
    "X_train_tts, X_test_tts, y_train_tts, y_test_tts = tts(X_train, y_train, test_size=0.2, random_state=123)"
   ]
  },
  {
   "cell_type": "markdown",
   "metadata": {},
   "source": [
    "# Step 4: Define Column Transformer"
   ]
  },
  {
   "cell_type": "code",
   "execution_count": null,
   "metadata": {},
   "outputs": [],
   "source": [
    "numerical_cols = ['JoiningYear', 'PaymentTier', 'Age', 'ExperienceInCurrentDomain']\n",
    "categorical_cols = ['Education', 'City', 'Gender', 'EverBenched', 'Race']\n",
    "\n",
    "\n",
    "# Define transformers for numerical and categorical columns\n",
    "numerical_transformer = Pipeline(steps=[\n",
    "    ('imputer', SimpleImputer(strategy='mean')),\n",
    "    ('scaler', StandardScaler())\n",
    "])\n",
    "\n",
    "categorical_transformer = Pipeline(steps=[\n",
    "    ('imputer', SimpleImputer(strategy='most_frequent')),\n",
    "    ('onehot', OneHotEncoder())\n",
    "])\n",
    "\n",
    "# Create the preprocessor using ColumnTransformer\n",
    "preprocessor = ColumnTransformer(\n",
    "    transformers=[\n",
    "        ('num', numerical_transformer, numerical_cols),\n",
    "        ('cat', categorical_transformer, categorical_cols)  \n",
    "    ])\n"
   ]
  },
  {
   "cell_type": "markdown",
   "metadata": {},
   "source": [
    "# SMOTE"
   ]
  },
  {
   "cell_type": "code",
   "execution_count": null,
   "metadata": {},
   "outputs": [],
   "source": [
    "# Apply preprocessing to the training data\n",
    "X_train_preprocessed = preprocessor.fit_transform(X_train_tts)"
   ]
  },
  {
   "cell_type": "code",
   "execution_count": null,
   "metadata": {},
   "outputs": [],
   "source": [
    "# If y_train_tts is a Series or 1D numpy array:\n",
    "print(\"Before SMOTE:\", Counter(y_train_tts['LeaveOrNot']))\n",
    "\n",
    "# Apply SMOTE\n",
    "smote = SMOTE(random_state=123)\n",
    "X_train_tts_smote, y_train_tts_smote = smote.fit_resample(X_train_preprocessed, y_train_tts)\n",
    "\n",
    "# After SMOTE\n",
    "print(\"After SMOTE:\", Counter(y_train_tts_smote['LeaveOrNot']))"
   ]
  },
  {
   "cell_type": "markdown",
   "metadata": {},
   "source": [
    "# Customize Models and Hyperparameters\n"
   ]
  },
  {
   "cell_type": "code",
   "execution_count": 279,
   "metadata": {},
   "outputs": [],
   "source": [
    "# Define your customized RandomForestClassifier\n",
    "rf = RandomForestClassifier(random_state=123)\n",
    "lg = LogisticRegression(random_state=123) \n",
    "adaboost = AdaBoostClassifier(random_state=123) # tree is default estimator\n",
    "grdboost = GradientBoostingClassifier(random_state=123)\n",
    "xgb = xgb.XGBClassifier(objective=\"multi:softmax\", num_class=3, random_state=123) #  objective='binary:hinge'\n",
    "\n",
    "\n",
    "# Models with penalizing for imbalanced data\n",
    "rf_penalize = RandomForestClassifier(random_state=123, class_weight='balanced')\n",
    "lg_penalize = LogisticRegression(random_state=123, class_weight='balanced')\n",
    "\n",
    "#Voting:\n",
    "# voting_calssifiers = [('rf', rf), ('xgb', xgb)]\n",
    "# voting = VotingClassifier(estimators = [('rf', rf), ('xgb', xgb)])"
   ]
  },
  {
   "cell_type": "code",
   "execution_count": null,
   "metadata": {},
   "outputs": [],
   "source": [
    "# Hyperparameter grid (adjusted for use with pipeline)\n",
    "rf_param_grid = {\n",
    "    'classifier__n_estimators': [50, 100],\n",
    "    'classifier__min_samples_leaf': [10, 25],\n",
    "    'classifier__max_depth': [5, 10]\n",
    "    # 'classifier__criterion': ['gini', 'entropy']\n",
    "}"
   ]
  },
  {
   "cell_type": "code",
   "execution_count": null,
   "metadata": {},
   "outputs": [],
   "source": [
    "# Grid search\n",
    "lg_param_grid = {'classifier__penalty': ['l1', 'l2'], \n",
    "                 'classifier__C': [0.001, 0.01, 1], \n",
    "                 'classifier__tol': [0.0001, 0.001], \n",
    "                 'classifier__solver': ['liblinear'],\n",
    "                 'classifier__max_iter': [500]}"
   ]
  },
  {
   "cell_type": "code",
   "execution_count": null,
   "metadata": {},
   "outputs": [],
   "source": [
    "ada_param_grid = {'classifier__n_estimators': [10, 50, 100], \n",
    "                 'classifier__learning_rate': [0.01, 1, 5]}"
   ]
  },
  {
   "cell_type": "code",
   "execution_count": null,
   "metadata": {},
   "outputs": [],
   "source": [
    "grdboost_param_grid = {'classifier__n_estimators': [50, 100], \n",
    "                       'classifier__learning_rate': [0.1, 1],\n",
    "                       'classifier__max_depth': [3, 10]}"
   ]
  },
  {
   "cell_type": "code",
   "execution_count": null,
   "metadata": {},
   "outputs": [],
   "source": [
    "xgboost_param_grid = {'classifier__learning_rate' : [0.01, 0.1, 1],\n",
    "                      'classifier__max_depth' : [2, 4, 8],\n",
    "                      'classifier__min_child_weight' : [0,2,4]}\n",
    "                  \n",
    "        \n",
    "# voting_param_grid = {'classifier__voting': ['soft', 'hard']\n",
    "# }"
   ]
  },
  {
   "cell_type": "markdown",
   "metadata": {},
   "source": [
    "# Create a Pipeline and Train the Model"
   ]
  },
  {
   "cell_type": "code",
   "execution_count": null,
   "metadata": {},
   "outputs": [],
   "source": [
    "def model_generator(model, param_grid):\n",
    "    # Create the pipline\n",
    "    pipeline = Pipeline([('classifier',model)])\n",
    "    # GridSearchCV with the pipeline\n",
    "    model_gs = GridSearchCV(estimator=pipeline, param_grid=param_grid, cv=10, scoring='f1')\n",
    "    # Fit GridSearchCV \n",
    "    model_gs.fit(X_train_tts_smote, y_train_tts_smote.values.ravel())\n",
    "    return model_gs"
   ]
  },
  {
   "cell_type": "code",
   "execution_count": null,
   "metadata": {},
   "outputs": [],
   "source": [
    "# model_gs.named_steps['classifier']\n",
    "# dir(model_gs)\n",
    "# model_gs.steps[1][1].feature_importance_"
   ]
  },
  {
   "cell_type": "code",
   "execution_count": null,
   "metadata": {},
   "outputs": [],
   "source": [
    "# f = best_model.named_steps['classifier']\n",
    "# f.feature_importance_"
   ]
  },
  {
   "cell_type": "markdown",
   "metadata": {},
   "source": [
    "Random Forest"
   ]
  },
  {
   "cell_type": "code",
   "execution_count": 260,
   "metadata": {},
   "outputs": [
    {
     "name": "stdout",
     "output_type": "stream",
     "text": [
      "Best Parameters: {'classifier__max_depth': 10, 'classifier__min_samples_leaf': 10, 'classifier__n_estimators': 100}\n"
     ]
    }
   ],
   "source": [
    "# Get the grid search of model\n",
    "rf_grid = model_generator(rf, rf_param_grid)\n",
    "\n",
    "# Output the best parameters\n",
    "print(\"Best Parameters:\", rf_grid.best_params_)\n",
    "\n",
    "# Define the best estimator\n",
    "rf_best_model = rf_grid.best_estimator_"
   ]
  },
  {
   "cell_type": "markdown",
   "metadata": {},
   "source": [
    "Logistic Regression"
   ]
  },
  {
   "cell_type": "code",
   "execution_count": 272,
   "metadata": {},
   "outputs": [
    {
     "name": "stdout",
     "output_type": "stream",
     "text": [
      "Best Parameters: {'classifier__C': 0.01, 'classifier__max_iter': 500, 'classifier__penalty': 'l1', 'classifier__solver': 'liblinear', 'classifier__tol': 0.0001}\n"
     ]
    }
   ],
   "source": [
    "# Get the grid search of model\n",
    "lg_grid = model_generator(lg, lg_param_grid)\n",
    "\n",
    "# Output the best parameters\n",
    "print(\"Best Parameters:\", lg_grid.best_params_)\n",
    "\n",
    "# Define the best estimator\n",
    "lg_best_model = lg_grid.best_estimator_"
   ]
  },
  {
   "cell_type": "markdown",
   "metadata": {},
   "source": [
    "Adaboost"
   ]
  },
  {
   "cell_type": "code",
   "execution_count": 276,
   "metadata": {},
   "outputs": [
    {
     "name": "stdout",
     "output_type": "stream",
     "text": [
      "Best Parameters: {'classifier__learning_rate': 1, 'classifier__n_estimators': 100}\n"
     ]
    }
   ],
   "source": [
    "# Get the grid search of model\n",
    "ada_grid = model_generator(adaboost, ada_param_grid)\n",
    "\n",
    "# Output the best parameters\n",
    "print(\"Best Parameters:\", ada_grid.best_params_)\n",
    "\n",
    "# Define the best estimator\n",
    "ada_best_model = ada_grid.best_estimator_"
   ]
  },
  {
   "cell_type": "markdown",
   "metadata": {},
   "source": [
    "Gradientboost"
   ]
  },
  {
   "cell_type": "code",
   "execution_count": 280,
   "metadata": {},
   "outputs": [
    {
     "name": "stdout",
     "output_type": "stream",
     "text": [
      "Best Parameters: {'classifier__learning_rate': 0.1, 'classifier__max_depth': 10, 'classifier__n_estimators': 50}\n"
     ]
    }
   ],
   "source": [
    "# Get the grid search of model\n",
    "grd_grid = model_generator(grdboost, grdboost_param_grid)\n",
    "\n",
    "# Output the best parameters\n",
    "print(\"Best Parameters:\", grd_grid.best_params_)\n",
    "\n",
    "# Define the best estimator\n",
    "grd_best_model = grd_grid.best_estimator_"
   ]
  },
  {
   "cell_type": "markdown",
   "metadata": {},
   "source": [
    "XGBoost"
   ]
  },
  {
   "cell_type": "code",
   "execution_count": 281,
   "metadata": {},
   "outputs": [
    {
     "name": "stdout",
     "output_type": "stream",
     "text": [
      "Best Parameters: {'classifier__learning_rate': 0.1, 'classifier__max_depth': 8, 'classifier__min_child_weight': 2}\n"
     ]
    }
   ],
   "source": [
    "# Get the grid search of model\n",
    "xgb_grid = model_generator(xgb, xgboost_param_grid)\n",
    "\n",
    "# Output the best parameters\n",
    "print(\"Best Parameters:\", xgb_grid.best_params_)\n",
    "\n",
    "# Define the best estimator\n",
    "xgb_best_model = xgb_grid.best_estimator_"
   ]
  },
  {
   "cell_type": "markdown",
   "metadata": {},
   "source": [
    "#  Evaluate the Model"
   ]
  },
  {
   "cell_type": "code",
   "execution_count": 285,
   "metadata": {},
   "outputs": [],
   "source": [
    "# Preprocess the test set\n",
    "X_test_tts = preprocessor.transform(X_test_tts)"
   ]
  },
  {
   "cell_type": "code",
   "execution_count": 288,
   "metadata": {},
   "outputs": [
    {
     "name": "stdout",
     "output_type": "stream",
     "text": [
      "              precision    recall  f1-score   support\n",
      "\n",
      "           0       0.82      0.91      0.87       485\n",
      "           1       0.79      0.64      0.71       260\n",
      "\n",
      "    accuracy                           0.82       745\n",
      "   macro avg       0.81      0.77      0.79       745\n",
      "weighted avg       0.81      0.82      0.81       745\n",
      "\n"
     ]
    }
   ],
   "source": [
    "predictions = xgb_best_model.predict(X_test_tts)\n",
    "print(classification_report(y_test_tts, predictions))"
   ]
  },
  {
   "cell_type": "code",
   "execution_count": 289,
   "metadata": {},
   "outputs": [
    {
     "name": "stdout",
     "output_type": "stream",
     "text": [
      "The f1 on the test set is : 0.7078891257995736\n"
     ]
    }
   ],
   "source": [
    "the_f1 = f1_score(y_test_tts, predictions)\n",
    "print(f\"The f1 on the test set is : {the_f1}\")"
   ]
  },
  {
   "cell_type": "code",
   "execution_count": 266,
   "metadata": {},
   "outputs": [
    {
     "data": {
      "text/plain": [
       "Text(33.0, 0.5, 'Actual')"
      ]
     },
     "execution_count": 266,
     "metadata": {},
     "output_type": "execute_result"
    },
    {
     "data": {
      "image/png": "[encoded data removed]",
      "text/plain": [
       "<Figure size 432x288 with 2 Axes>"
      ]
     },
     "metadata": {
      "needs_background": "light"
     },
     "output_type": "display_data"
    }
   ],
   "source": [
    "# Confusion Matrix for Training Data\n",
    "conf_matrix_train = confusion_matrix(y_train_tts_smote, rf_best_model.predict(X_train_tts_smote))\n",
    "sns.heatmap(conf_matrix_train, annot=True, fmt='g', cmap='Greens')\n",
    "plt.title('Confusion Matrix for Train Data')\n",
    "plt.xlabel('Predicted')\n",
    "plt.ylabel('Actual')"
   ]
  },
  {
   "cell_type": "code",
   "execution_count": 267,
   "metadata": {},
   "outputs": [
    {
     "data": {
      "text/plain": [
       "Text(33.0, 0.5, 'Actual')"
      ]
     },
     "execution_count": 267,
     "metadata": {},
     "output_type": "execute_result"
    },
    {
     "data": {
      "image/png": "[encoded data removed]",
      "text/plain": [
       "<Figure size 432x288 with 2 Axes>"
      ]
     },
     "metadata": {
      "needs_background": "light"
     },
     "output_type": "display_data"
    }
   ],
   "source": [
    "# Calculate the percentage for each cell\n",
    "total = np.sum(conf_matrix_train)\n",
    "conf_matrix_percentage_train = (conf_matrix_train / total) * 100\n",
    "\n",
    "# Plotting the confusion matrix as a heatmap\n",
    "sns.heatmap(conf_matrix_percentage_train, annot=True, fmt='.2f', cmap='Blues')\n",
    "plt.title('Confusion Matrix as Percentage of Total Observations for Train Data')\n",
    "plt.xlabel('Predicted')\n",
    "plt.ylabel('Actual')"
   ]
  },
  {
   "cell_type": "code",
   "execution_count": 268,
   "metadata": {},
   "outputs": [
    {
     "data": {
      "text/plain": [
       "Text(33.0, 0.5, 'Actual')"
      ]
     },
     "execution_count": 268,
     "metadata": {},
     "output_type": "execute_result"
    },
    {
     "data": {
      "image/png": "[encoded data removed]",
      "text/plain": [
       "<Figure size 432x288 with 2 Axes>"
      ]
     },
     "metadata": {
      "needs_background": "light"
     },
     "output_type": "display_data"
    }
   ],
   "source": [
    "# Confusion Matrix for Test Data\n",
    "conf_matrix_test = confusion_matrix(y_test_tts, predictions)\n",
    "sns.heatmap(conf_matrix_test, annot=True, fmt='g', cmap='Greens')\n",
    "plt.title('Confusion Matrix for Test Data')\n",
    "plt.xlabel('Predicted')\n",
    "plt.ylabel('Actual')"
   ]
  },
  {
   "cell_type": "code",
   "execution_count": 269,
   "metadata": {},
   "outputs": [
    {
     "data": {
      "text/plain": [
       "Text(33.0, 0.5, 'Actual')"
      ]
     },
     "execution_count": 269,
     "metadata": {},
     "output_type": "execute_result"
    },
    {
     "data": {
      "image/png": "[encoded data removed]",
      "text/plain": [
       "<Figure size 432x288 with 2 Axes>"
      ]
     },
     "metadata": {
      "needs_background": "light"
     },
     "output_type": "display_data"
    }
   ],
   "source": [
    "# Calculate the percentage for each cell\n",
    "total = np.sum(conf_matrix_test)\n",
    "conf_matrix_percentage_test = (conf_matrix_test / total) * 100\n",
    "\n",
    "# Plotting the confusion matrix as a heatmap\n",
    "sns.heatmap(conf_matrix_percentage_test, annot=True, fmt='.2f', cmap='Blues')\n",
    "plt.title('Confusion Matrix as Percentage of Total Observations for Test Data')\n",
    "plt.xlabel('Predicted')\n",
    "plt.ylabel('Actual')"
   ]
  },
  {
   "cell_type": "code",
   "execution_count": 270,
   "metadata": {},
   "outputs": [
    {
     "data": {
      "text/plain": [
       "<matplotlib.legend.Legend at 0x1e192772460>"
      ]
     },
     "execution_count": 270,
     "metadata": {},
     "output_type": "execute_result"
    },
    {
     "data": {
      "image/png": "[encoded data removed]",
      "text/plain": [
       "<Figure size 432x288 with 1 Axes>"
      ]
     },
     "metadata": {
      "needs_background": "light"
     },
     "output_type": "display_data"
    }
   ],
   "source": [
    "# ROC Curve for Test Data\n",
    "y_test_proba = rf_best_model.predict_proba(X_test_tts)[:, 1]\n",
    "fpr, tpr, thresholds = roc_curve(y_test_tts, y_test_proba)\n",
    "roc_auc = auc(fpr, tpr)\n",
    "\n",
    "plt.figure()\n",
    "plt.plot(fpr, tpr, color='darkorange', lw=2, label=f'ROC curve (area = {roc_auc:0.2f})')\n",
    "plt.plot([0, 1], [0, 1], color='navy', lw=2, linestyle='--')\n",
    "plt.xlim([0.0, 1.0])\n",
    "plt.ylim([0.0, 1.05])\n",
    "plt.xlabel('False Positive Rate')\n",
    "plt.ylabel('True Positive Rate')\n",
    "plt.title('Receiver Operating Characteristic (ROC) Curve')\n",
    "plt.legend(loc=\"lower right\")"
   ]
  },
  {
   "cell_type": "code",
   "execution_count": null,
   "metadata": {
    "scrolled": true
   },
   "outputs": [],
   "source": []
  },
  {
   "cell_type": "code",
   "execution_count": null,
   "metadata": {},
   "outputs": [],
   "source": []
  },
  {
   "cell_type": "code",
   "execution_count": null,
   "metadata": {},
   "outputs": [],
   "source": []
  },
  {
   "cell_type": "markdown",
   "metadata": {},
   "source": [
    "# Submission"
   ]
  },
  {
   "cell_type": "code",
   "execution_count": null,
   "metadata": {},
   "outputs": [],
   "source": [
    "X_test.head(2)"
   ]
  },
  {
   "cell_type": "code",
   "execution_count": null,
   "metadata": {},
   "outputs": [],
   "source": [
    "X_test.shape\n",
    "X_test.isnull().sum()"
   ]
  },
  {
   "cell_type": "code",
   "execution_count": null,
   "metadata": {},
   "outputs": [],
   "source": [
    "# external test dataset should undergo the same preprocessing steps as training dataset\n",
    "X_test_proc = preprocessor.transform(X_test)\n",
    "# Get the feature names for categorical columns after one-hot encoding\n",
    "# 'onehot' is the name of the OneHotEncoder step in your categorical pipeline\n",
    "one_hot_feature_names = preprocessor.named_transformers_['cat']['onehot'].get_feature_names_out(categorical_cols)\n",
    "\n",
    "# Combine with the numerical column names\n",
    "all_feature_names = numerical_cols + list(one_hot_feature_names)\n",
    "\n",
    "# Convert to DataFrame\n",
    "X_test_proc_df = pd.DataFrame(X_test_proc, columns=all_feature_names, index=X_test.index)\n",
    "\n",
    "# Display the first two rows of the processed DataFrame\n",
    "X_test_proc_df.head(2)"
   ]
  },
  {
   "cell_type": "markdown",
   "metadata": {},
   "source": [
    "Picked the best model to generate predictions:"
   ]
  },
  {
   "cell_type": "code",
   "execution_count": null,
   "metadata": {},
   "outputs": [],
   "source": [
    "final_y_pred = best_model.predict(X_test_proc)  # best_model inner pipeline ensurses the preprocessing of X_test\n",
    "final_y_pred.shape"
   ]
  },
  {
   "cell_type": "markdown",
   "metadata": {},
   "source": [
    "Create a dictionary with the predicted values {id: prediction}"
   ]
  },
  {
   "cell_type": "code",
   "execution_count": null,
   "metadata": {},
   "outputs": [],
   "source": [
    "prediction_dict = {id_: pred for id_, pred in zip(X_test.index, final_y_pred)}\n",
    "\n",
    "# Convert NumPy int64 types to native Python int types in the dictionary (JASON requirement)\n",
    "prediction_dict_converted = {int(id_): int(pred) for id_, pred in prediction_dict.items()}"
   ]
  },
  {
   "cell_type": "markdown",
   "metadata": {},
   "source": [
    " Convert dictionary to JSON File"
   ]
  },
  {
   "cell_type": "code",
   "execution_count": null,
   "metadata": {},
   "outputs": [],
   "source": [
    "with open('Daria_non_final_predictions.json', 'w') as f:\n",
    "    json.dump(prediction_dict_converted, f)"
   ]
  },
  {
   "cell_type": "code",
   "execution_count": null,
   "metadata": {},
   "outputs": [],
   "source": []
  }
 ],
 "metadata": {
  "kernelspec": {
   "display_name": "Python 3",
   "language": "python",
   "name": "python3"
  },
  "language_info": {
   "codemirror_mode": {
    "name": "ipython",
    "version": 3
   },
   "file_extension": ".py",
   "mimetype": "text/x-python",
   "name": "python",
   "nbconvert_exporter": "python",
   "pygments_lexer": "ipython3",
   "version": "3.8.5"
  }
 },
 "nbformat": 4,
 "nbformat_minor": 4
}
