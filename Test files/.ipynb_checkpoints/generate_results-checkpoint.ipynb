{
 "cells": [
  {
   "cell_type": "code",
   "execution_count": 1,
   "metadata": {
    "executionInfo": {
     "elapsed": 1509,
     "status": "ok",
     "timestamp": 1699602236438,
     "user": {
      "displayName": "Raz Shmueli",
      "userId": "01486696093632906093"
     },
     "user_tz": -120
    },
    "id": "FFO1QvxQlnPz"
   },
   "outputs": [],
   "source": [
    "import pandas as pd\n",
    "import json\n",
    "import numpy as np\n",
    "from sklearn.metrics import f1_score\n",
    "\n",
    "def csv_drive_path_generatoer(url:str):\n",
    " '''\n",
    " Help in read csv file directly from google drive.\n",
    " Make sure the csv format is standard.\n",
    " url:str - path to csv file example:\n",
    "   url = 'https://drive.google.com/file/d/126JPZ3lYwdLyJ2d_7jxM9jMtZaOlF-Ld/view?usp=sharing'\n",
    " return : str\n",
    " '''\n",
    " path = 'https://drive.google.com/uc?export=download&id='+url.split('/')[-2]\n",
    " return path"
   ]
  },
  {
   "cell_type": "markdown",
   "metadata": {
    "id": "h4eBpzpbOtCq"
   },
   "source": [
    "# Y Actual"
   ]
  },
  {
   "cell_type": "code",
   "execution_count": 2,
   "metadata": {
    "colab": {
     "base_uri": "https://localhost:8080/",
     "height": 206
    },
    "executionInfo": {
     "elapsed": 1464,
     "status": "ok",
     "timestamp": 1699602239147,
     "user": {
      "displayName": "Raz Shmueli",
      "userId": "01486696093632906093"
     },
     "user_tz": -120
    },
    "id": "aDQ7p-qLol1K",
    "outputId": "d10a60da-8b62-448d-b000-4ef318b34630"
   },
   "outputs": [
    {
     "data": {
      "text/html": [
       "<div>\n",
       "<style scoped>\n",
       "    .dataframe tbody tr th:only-of-type {\n",
       "        vertical-align: middle;\n",
       "    }\n",
       "\n",
       "    .dataframe tbody tr th {\n",
       "        vertical-align: top;\n",
       "    }\n",
       "\n",
       "    .dataframe thead th {\n",
       "        text-align: right;\n",
       "    }\n",
       "</style>\n",
       "<table border=\"1\" class=\"dataframe\">\n",
       "  <thead>\n",
       "    <tr style=\"text-align: right;\">\n",
       "      <th></th>\n",
       "      <th>id</th>\n",
       "      <th>lable</th>\n",
       "    </tr>\n",
       "  </thead>\n",
       "  <tbody>\n",
       "    <tr>\n",
       "      <th>911</th>\n",
       "      <td>911</td>\n",
       "      <td>0</td>\n",
       "    </tr>\n",
       "    <tr>\n",
       "      <th>2235</th>\n",
       "      <td>2235</td>\n",
       "      <td>1</td>\n",
       "    </tr>\n",
       "    <tr>\n",
       "      <th>3395</th>\n",
       "      <td>3395</td>\n",
       "      <td>1</td>\n",
       "    </tr>\n",
       "    <tr>\n",
       "      <th>1617</th>\n",
       "      <td>1617</td>\n",
       "      <td>1</td>\n",
       "    </tr>\n",
       "    <tr>\n",
       "      <th>4003</th>\n",
       "      <td>4003</td>\n",
       "      <td>0</td>\n",
       "    </tr>\n",
       "  </tbody>\n",
       "</table>\n",
       "</div>"
      ],
      "text/plain": [
       "        id  lable\n",
       "911    911      0\n",
       "2235  2235      1\n",
       "3395  3395      1\n",
       "1617  1617      1\n",
       "4003  4003      0"
      ]
     },
     "execution_count": 2,
     "metadata": {},
     "output_type": "execute_result"
    }
   ],
   "source": [
    "path = csv_drive_path_generatoer('https://drive.google.com/file/d/1Rn4P-7QgSZ9ymH6aSvvrn_me4LORrWDi/view?usp=sharing')\n",
    "y_test_actual = pd.read_csv(path,index_col=[0] )\n",
    "y_test_actual.head()"
   ]
  },
  {
   "cell_type": "markdown",
   "metadata": {
    "id": "xByjAHhc5wS1"
   },
   "source": [
    "# Instructions\n",
    "\n",
    "Load the following json files [link](https://drive.google.com/drive/folders/19b008sfjF_lgvZcEh-nGKtxxmm0t4iZW):\n",
    "1. \"y_test_pseudo_prediction\"\n",
    "2. \"y_test_random_prediction_better_than_random\"\n",
    "\n",
    "\n",
    "Run the following, once with `group = \"y_test_pseudo_prediction\"` and once with `group = \"y_test_random_prediction_better_than_random\"`\n",
    "\n",
    "\n",
    "**After** you **understand the flow**, load your results, change the \"`group`\" variable to your group number and run it again"
   ]
  },
  {
   "cell_type": "markdown",
   "metadata": {
    "id": "QEYkFzZjOxe3"
   },
   "source": [
    "# Y pred"
   ]
  },
  {
   "cell_type": "code",
   "execution_count": 3,
   "metadata": {
    "executionInfo": {
     "elapsed": 312,
     "status": "ok",
     "timestamp": 1699602544728,
     "user": {
      "displayName": "Raz Shmueli",
      "userId": "01486696093632906093"
     },
     "user_tz": -120
    },
    "id": "6uYlTUvsO70s"
   },
   "outputs": [],
   "source": [
    "# group = 3\n",
    "# group = \"y_test_pseudo_prediction\"\n",
    "# group = \"y_test_random_prediction_better_than_random\"\n",
    "group = \"shahar_predictions\"\n",
    "\n",
    "with open(f'{group}.json') as json_file:\n",
    "    y_test_pred = json.load(json_file)"
   ]
  },
  {
   "cell_type": "markdown",
   "metadata": {
    "id": "6_-nik60TylZ"
   },
   "source": [
    "# Test"
   ]
  },
  {
   "cell_type": "markdown",
   "metadata": {
    "id": "0HJDCKvUWxBz"
   },
   "source": [
    "#### ids"
   ]
  },
  {
   "cell_type": "code",
   "execution_count": 4,
   "metadata": {
    "colab": {
     "base_uri": "https://localhost:8080/"
    },
    "executionInfo": {
     "elapsed": 4,
     "status": "ok",
     "timestamp": 1699602545452,
     "user": {
      "displayName": "Raz Shmueli",
      "userId": "01486696093632906093"
     },
     "user_tz": -120
    },
    "id": "O3lHhMbNTq0f",
    "outputId": "0d321258-0e40-485b-818e-7e5c0d4ed5ba"
   },
   "outputs": [
    {
     "name": "stdout",
     "output_type": "stream",
     "text": [
      "All ids exists and valid\n"
     ]
    }
   ],
   "source": [
    "if sorted([int(i) for i in list(y_test_pred.keys())]) == sorted(y_test_actual.id.tolist()):\n",
    "  print(\"All ids exists and valid\")\n",
    "else:\n",
    "  print(\"make sure there is no missing ids and the ids are in the right foramt (for example: 123.0 not valid, 123 valid)\")"
   ]
  },
  {
   "cell_type": "markdown",
   "metadata": {
    "id": "inWsPLYHXPYH"
   },
   "source": [
    "Prediction object type"
   ]
  },
  {
   "cell_type": "code",
   "execution_count": 5,
   "metadata": {
    "colab": {
     "base_uri": "https://localhost:8080/"
    },
    "executionInfo": {
     "elapsed": 4,
     "status": "ok",
     "timestamp": 1699602546160,
     "user": {
      "displayName": "Raz Shmueli",
      "userId": "01486696093632906093"
     },
     "user_tz": -120
    },
    "id": "N6MQURYcYAM8",
    "outputId": "6729418c-d996-4b2c-c4cc-1cd915958d2a"
   },
   "outputs": [
    {
     "name": "stdout",
     "output_type": "stream",
     "text": [
      "valid predictions\n"
     ]
    }
   ],
   "source": [
    "import numbers\n",
    "valid_predictions = len([1 for x in y_test_pred.values() if not isinstance(x, int) ]) == 0\n",
    "\n",
    "if valid_predictions:\n",
    "  print(\"valid predictions\")\n",
    "else:\n",
    "  print(\"not valid predictions, make sure there is no Nones, strings, floats or other not an integer format\\\n",
    "       \\nfor example, 1.0 is not valid format, 1 is valid\")"
   ]
  },
  {
   "cell_type": "markdown",
   "metadata": {
    "id": "Bnq82mVPZIv5"
   },
   "source": [
    "# f1"
   ]
  },
  {
   "cell_type": "code",
   "execution_count": 6,
   "metadata": {
    "executionInfo": {
     "elapsed": 2,
     "status": "ok",
     "timestamp": 1699602546451,
     "user": {
      "displayName": "Raz Shmueli",
      "userId": "01486696093632906093"
     },
     "user_tz": -120
    },
    "id": "nyofr5qC2XLP"
   },
   "outputs": [],
   "source": [
    "y_test_actual[\"predicted_labele\"] = None\n",
    "\n",
    "for i in y_test_actual.id:\n",
    "  y_test_actual.loc[i,\"predicted_labele\"] = y_test_pred[str(i)]\n",
    "\n",
    "y_test_actual.predicted_labele= y_test_actual.predicted_labele.astype(int)"
   ]
  },
  {
   "cell_type": "code",
   "execution_count": 7,
   "metadata": {
    "colab": {
     "base_uri": "https://localhost:8080/"
    },
    "executionInfo": {
     "elapsed": 4,
     "status": "ok",
     "timestamp": 1699602547153,
     "user": {
      "displayName": "Raz Shmueli",
      "userId": "01486696093632906093"
     },
     "user_tz": -120
    },
    "id": "-5C6il8X2UfC",
    "outputId": "7f4e3079-f218-4f0a-a0a4-187ff07000f3"
   },
   "outputs": [
    {
     "name": "stdout",
     "output_type": "stream",
     "text": [
      "Your f1 on the test set is : 0.3296398891966759\n"
     ]
    }
   ],
   "source": [
    "f_1 = f1_score(y_test_actual.lable, y_test_actual.predicted_labele)\n",
    "\n",
    "print(f\"Your f1 on the test set is : {f_1}\")"
   ]
  },
  {
   "cell_type": "markdown",
   "metadata": {
    "id": "tKCnN0KDoI1l"
   },
   "source": [
    "# Confustion matrix"
   ]
  },
  {
   "cell_type": "code",
   "execution_count": 8,
   "metadata": {
    "colab": {
     "base_uri": "https://localhost:8080/",
     "height": 449
    },
    "executionInfo": {
     "elapsed": 324,
     "status": "ok",
     "timestamp": 1699602555163,
     "user": {
      "displayName": "Raz Shmueli",
      "userId": "01486696093632906093"
     },
     "user_tz": -120
    },
    "id": "p3GfDTwQ4NwG",
    "outputId": "1566cc52-a806-4ccc-c54d-f11d1fbddbe7"
   },
   "outputs": [
    {
     "data": {
      "image/png": "[encoded data removed]",
      "text/plain": [
       "<Figure size 432x288 with 2 Axes>"
      ]
     },
     "metadata": {
      "needs_background": "light"
     },
     "output_type": "display_data"
    }
   ],
   "source": [
    "import matplotlib.pyplot as plt\n",
    "from sklearn.metrics import confusion_matrix, ConfusionMatrixDisplay\n",
    "\n",
    "cm = confusion_matrix(y_test_actual.lable, y_test_actual.predicted_labele, labels=[0,1])\n",
    "disp = ConfusionMatrixDisplay(confusion_matrix=cm,\n",
    "                              display_labels=[0,1])\n",
    "disp.plot()\n",
    "plt.show()"
   ]
  },
  {
   "cell_type": "code",
   "execution_count": null,
   "metadata": {
    "id": "R9209VYy5I3i"
   },
   "outputs": [],
   "source": []
  }
 ],
 "metadata": {
  "colab": {
   "provenance": []
  },
  "kernelspec": {
   "display_name": "Python 3",
   "language": "python",
   "name": "python3"
  },
  "language_info": {
   "codemirror_mode": {
    "name": "ipython",
    "version": 3
   },
   "file_extension": ".py",
   "mimetype": "text/x-python",
   "name": "python",
   "nbconvert_exporter": "python",
   "pygments_lexer": "ipython3",
   "version": "3.8.5"
  }
 },
 "nbformat": 4,
 "nbformat_minor": 1
}
